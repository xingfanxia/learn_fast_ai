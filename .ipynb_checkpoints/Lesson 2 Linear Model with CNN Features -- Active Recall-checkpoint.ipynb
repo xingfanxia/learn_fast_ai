{
 "cells": [
  {
   "cell_type": "markdown",
   "metadata": {
    "toc": "true"
   },
   "source": [
    "# Table of Contents\n",
    " <p><div class=\"lev3 toc-item\"><a href=\"#Setup\" data-toc-modified-id=\"Setup-001\"><span class=\"toc-item-num\">0.0.1&nbsp;&nbsp;</span>Setup</a></div><div class=\"lev3 toc-item\"><a href=\"#Playground\" data-toc-modified-id=\"Playground-002\"><span class=\"toc-item-num\">0.0.2&nbsp;&nbsp;</span>Playground</a></div>"
   ]
  },
  {
   "cell_type": "markdown",
   "metadata": {},
   "source": [
    "### Setup"
   ]
  },
  {
   "cell_type": "code",
   "execution_count": 3,
   "metadata": {
    "ExecuteTime": {
     "end_time": "2017-08-19T07:00:01.553331Z",
     "start_time": "2017-08-19T07:00:01.313515Z"
    }
   },
   "outputs": [],
   "source": [
    "%matplotlib inline"
   ]
  },
  {
   "cell_type": "code",
   "execution_count": 4,
   "metadata": {
    "ExecuteTime": {
     "end_time": "2017-08-19T07:00:20.613871Z",
     "start_time": "2017-08-19T07:00:20.608721Z"
    },
    "collapsed": true
   },
   "outputs": [],
   "source": [
    "#standard init code\n",
    "from __future__ import division, print_function\n",
    "\n",
    "import os, json, glob\n",
    "import numpy as np\n",
    "np.set_printoptions(precision=4, linewidth=100)\n",
    "from matplotlib import pyplot as plt"
   ]
  },
  {
   "cell_type": "code",
   "execution_count": 6,
   "metadata": {
    "ExecuteTime": {
     "end_time": "2017-08-19T07:00:35.924643Z",
     "start_time": "2017-08-19T07:00:35.920519Z"
    }
   },
   "outputs": [],
   "source": [
    "import utils; reload(utils)\n",
    "from utils import *"
   ]
  },
  {
   "cell_type": "markdown",
   "metadata": {},
   "source": [
    "### Playground"
   ]
  },
  {
   "cell_type": "code",
   "execution_count": null,
   "metadata": {
    "collapsed": true
   },
   "outputs": [],
   "source": []
  }
 ],
 "metadata": {
  "kernelspec": {
   "display_name": "Python 2",
   "language": "python",
   "name": "python2"
  },
  "language_info": {
   "codemirror_mode": {
    "name": "ipython",
    "version": 2
   },
   "file_extension": ".py",
   "mimetype": "text/x-python",
   "name": "python",
   "nbconvert_exporter": "python",
   "pygments_lexer": "ipython2",
   "version": "2.7.13"
  },
  "toc": {
   "colors": {
    "hover_highlight": "#DAA520",
    "navigate_num": "#e6e6e6",
    "navigate_text": "#eeeeee",
    "running_highlight": "#FF0000",
    "selected_highlight": "#2267c6",
    "sidebar_border": "#EEEEEE",
    "wrapper_background": "#1c1f28"
   },
   "moveMenuLeft": true,
   "nav_menu": {
    "height": "36px",
    "width": "254px"
   },
   "navigate_menu": true,
   "number_sections": true,
   "sideBar": true,
   "threshold": 4,
   "toc_cell": true,
   "toc_section_display": "block",
   "toc_window_display": true,
   "widenNotebook": false
  }
 },
 "nbformat": 4,
 "nbformat_minor": 2
}
